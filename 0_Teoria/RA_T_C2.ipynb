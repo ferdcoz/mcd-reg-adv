{
 "cells": [
  {
   "attachments": {},
   "cell_type": "markdown",
   "metadata": {},
   "source": [
    "## Regresión Avanzada\n",
    "## Clase 2"
   ]
  },
  {
   "cell_type": "code",
   "execution_count": 1,
   "metadata": {
    "vscode": {
     "languageId": "r"
    }
   },
   "outputs": [],
   "source": [
    "suppressMessages( library( readr ) )\n",
    "suppressMessages( library( car ) )\n",
    "suppressMessages( library( ggplot2 ) )\n",
    "suppressMessages( library( lmtest ) )\n",
    "suppressMessages( library( MASS ) )\n",
    "suppressMessages( library( carData ) )\n",
    "suppressMessages( library( robustbase ) )\n",
    "suppressMessages( library( olsrr ) )\n",
    "suppressMessages( library( quantreg ) )\n",
    "suppressMessages( library( GGally ) )\n",
    "suppressMessages( library( dplyr ) )\n",
    "suppressMessages( library( kableExtra ) )"
   ]
  },
  {
   "attachments": {},
   "cell_type": "markdown",
   "metadata": {},
   "source": [
    "## 1. Análisis de Diagnóstico"
   ]
  },
  {
   "attachments": {},
   "cell_type": "markdown",
   "metadata": {},
   "source": [
    "### Validación de la normalidad: Estrategias analíticas"
   ]
  },
  {
   "attachments": {},
   "cell_type": "markdown",
   "metadata": {},
   "source": [
    "Se dispone de varios test: Shapiro-Wilks, Lilliefors, Anderson-Darling entre otros, todos ellos disponibles en R."
   ]
  },
  {
   "cell_type": "code",
   "execution_count": 4,
   "metadata": {
    "vscode": {
     "languageId": "r"
    }
   },
   "outputs": [
    {
     "data": {
      "text/plain": [
       "\n",
       "\tShapiro-Wilk normality test\n",
       "\n",
       "data:  residuos\n",
       "W = 0.95305, p-value = 0.5394\n"
      ]
     },
     "metadata": {},
     "output_type": "display_data"
    },
    {
     "data": {
      "text/plain": [
       "\n",
       "\tAnderson-Darling normality test\n",
       "\n",
       "data:  residuos\n",
       "A = 0.27592, p-value = 0.6085\n"
      ]
     },
     "metadata": {},
     "output_type": "display_data"
    },
    {
     "data": {
      "text/plain": [
       "\n",
       "\tLilliefors (Kolmogorov-Smirnov) normality test\n",
       "\n",
       "data:  residuos\n",
       "D = 0.1077, p-value = 0.889\n"
      ]
     },
     "metadata": {},
     "output_type": "display_data"
    }
   ],
   "source": [
    "library( nortest ) # REALIZA 10 PRUEBAS DE NORMALIDAD #\n",
    "\n",
    "SUPHOJA <- c( 44.09, 36.67, 51.72, 36.04, 38.97, 41.28, 42.06, 53.33, 40.14, 39.31, 33.53, 36.88, 36.94, 34.13, 42.03, 41.55 )\n",
    "PESOF <- c( 49.29, 49, 43.04, 66.79, 63.11, 43.8, 39.63, 44.98, 21.44, 38.75, 40.96, 39.39, 54.7, 44.65, 39.65, 47.16 )\n",
    "LONGF <- c( 46.34, 44.58, 40.06, 51.3, 50.7, 40.29, 39.71, 40.1, 29.63, 37, 37.38, 36.14, 49.33, 42.37, 37.4, 39.4 )\n",
    "\n",
    "hojas <- data.frame( SUPHOJA, PESOF, LONGF )\n",
    "\n",
    "mod_hojas <- lm( PESOF ~ LONGF, data = hojas )\n",
    "\n",
    "residuos = residuals( mod_hojas )\n",
    "shapiro.test( residuos )\n",
    "ad.test( residuos )\n",
    "lillie.test( residuos )"
   ]
  },
  {
   "attachments": {},
   "cell_type": "markdown",
   "metadata": {},
   "source": [
    "Conclusión: Todos los test coinciden en que puede sostenerse el supuesto de normalidad."
   ]
  },
  {
   "attachments": {},
   "cell_type": "markdown",
   "metadata": {},
   "source": [
    "### Validación de la Normalidad: Estrategias gráficas"
   ]
  },
  {
   "attachments": {},
   "cell_type": "markdown",
   "metadata": {},
   "source": [
    "Los gráficos de cuantil-cuantil o qq-plots visibilizan los apartamientos respecto de la normalidad de los residuos del modelo ajustado."
   ]
  },
  {
   "cell_type": "code",
   "execution_count": 6,
   "metadata": {
    "vscode": {
     "languageId": "r"
    }
   },
   "outputs": [
    {
     "data": {
      "text/html": [
       "<style>\n",
       ".list-inline {list-style: none; margin:0; padding: 0}\n",
       ".list-inline>li {display: inline-block}\n",
       ".list-inline>li:not(:last-child)::after {content: \"\\00b7\"; padding: 0 .5ex}\n",
       "</style>\n",
       "<ol class=list-inline><li>16</li><li>1</li></ol>\n"
      ],
      "text/latex": [
       "\\begin{enumerate*}\n",
       "\\item 16\n",
       "\\item 1\n",
       "\\end{enumerate*}\n"
      ],
      "text/markdown": [
       "1. 16\n",
       "2. 1\n",
       "\n",
       "\n"
      ],
      "text/plain": [
       "[1] 16  1"
      ]
     },
     "metadata": {},
     "output_type": "display_data"
    },
    {
     "data": {
      "image/png": "[encoded data removed]",
      "text/plain": [
       "Plot with title \"QQplot para los residuos del Modelo Lineal\""
      ]
     },
     "metadata": {
      "image/png": {
       "height": 420,
       "width": 420
      }
     },
     "output_type": "display_data"
    }
   ],
   "source": [
    "qqPlot( residuos, pch = 19,\n",
    "    main = \"QQplot para los residuos del Modelo Lineal\",\n",
    "    xlab = \"Cuantiles teóricos\",\n",
    "    ylab = \"Cuantiles muestrales\" )"
   ]
  },
  {
   "attachments": {},
   "cell_type": "markdown",
   "metadata": {},
   "source": [
    "### Validación de la independencia"
   ]
  },
  {
   "cell_type": "code",
   "execution_count": 25,
   "metadata": {
    "vscode": {
     "languageId": "r"
    }
   },
   "outputs": [
    {
     "data": {
      "image/png": "[encoded data removed]",
      "text/plain": [
       "plot without title"
      ]
     },
     "metadata": {
      "image/png": {
       "height": 420,
       "width": 420
      }
     },
     "output_type": "display_data"
    }
   ],
   "source": [
    "orden <- 1:nrow( hojas )\n",
    "dwdata <- data.frame(orden = orden, residuos = residuos)\n",
    "\n",
    "ggplot( dwdata, aes( x = orden, y = residuos ) ) +\n",
    "    geom_point( color = \"#013ADF\", \n",
    "        fill = \"#013ADF\", \n",
    "        size = 4, \n",
    "        shape = 18, \n",
    "        alpha = 0.5 ) + \n",
    "    xlab( \"orden\" ) +\n",
    "    geom_abline( slope = 0 )"
   ]
  },
  {
   "attachments": {},
   "cell_type": "markdown",
   "metadata": {},
   "source": [
    "Para realizar esta verificación analíticamente, se puede aplicar el test de Durbin-Watson."
   ]
  },
  {
   "cell_type": "code",
   "execution_count": 10,
   "metadata": {
    "vscode": {
     "languageId": "r"
    }
   },
   "outputs": [
    {
     "data": {
      "text/plain": [
       "\n",
       "\tDurbin-Watson test\n",
       "\n",
       "data:  mod_hojas\n",
       "DW = 1.5159, p-value = 0.2612\n",
       "alternative hypothesis: true autocorrelation is not 0\n"
      ]
     },
     "metadata": {},
     "output_type": "display_data"
    }
   ],
   "source": [
    "dwtest( mod_hojas, alternative = \"two.sided\", iterations = 1000 )"
   ]
  },
  {
   "attachments": {},
   "cell_type": "markdown",
   "metadata": {},
   "source": [
    "### Validación de la homocedasticidad"
   ]
  },
  {
   "attachments": {},
   "cell_type": "markdown",
   "metadata": {},
   "source": [
    "Existen varia pruebas como el test de Breusch- Pagan el de Gotfeld-Quandt disponibles en R."
   ]
  },
  {
   "cell_type": "code",
   "execution_count": 14,
   "metadata": {
    "vscode": {
     "languageId": "r"
    }
   },
   "outputs": [
    {
     "data": {
      "text/plain": [
       "\n",
       "\tstudentized Breusch-Pagan test\n",
       "\n",
       "data:  mod_hojas\n",
       "BP = 0.84363, df = 1, p-value = 0.3584\n"
      ]
     },
     "metadata": {},
     "output_type": "display_data"
    },
    {
     "data": {
      "text/plain": [
       "\n",
       "\tGoldfeld-Quandt test\n",
       "\n",
       "data:  mod_hojas\n",
       "GQ = 1.4074, df1 = 6, df2 = 6, p-value = 0.3443\n",
       "alternative hypothesis: variance increases from segment 1 to 2\n"
      ]
     },
     "metadata": {},
     "output_type": "display_data"
    }
   ],
   "source": [
    "bptest( mod_hojas )\n",
    "gqtest( mod_hojas, order.by = LONGF, data = hojas )"
   ]
  },
  {
   "attachments": {},
   "cell_type": "markdown",
   "metadata": {},
   "source": [
    "### Validación Gráfica de la homocedasticidad"
   ]
  },
  {
   "attachments": {},
   "cell_type": "markdown",
   "metadata": {},
   "source": [
    "Se utiliza el gráfico de residuales versus la variable predictora que permite observar si el error del modelo aumenta o disminuye al aumentar la magnitud de los valores de la variable predictora. Una estructura\n",
    "de \"embudo\" alerta respecto de heterocedasticidad."
   ]
  },
  {
   "cell_type": "code",
   "execution_count": 15,
   "metadata": {
    "vscode": {
     "languageId": "r"
    }
   },
   "outputs": [
    {
     "data": {
      "image/png": "[encoded data removed]",
      "text/plain": [
       "plot without title"
      ]
     },
     "metadata": {
      "image/png": {
       "height": 420,
       "width": 420
      }
     },
     "output_type": "display_data"
    }
   ],
   "source": [
    "ajustados <- mod_hojas$fitted.values\n",
    "databp <- data.frame( ajustados, residuos )\n",
    "\n",
    "ggplot( databp, aes( x = ajustados, y = residuos ) ) +\n",
    "    geom_point( color = \"#013ADF\", \n",
    "        fill = \"#013ADF\", \n",
    "        size = 4, \n",
    "        shape = 18, \n",
    "        alpha = 0.5) + \n",
    "    xlab( \"ajustados\" ) +\n",
    "    geom_abline( slope = 0, linetype = \"dashed\" )"
   ]
  },
  {
   "attachments": {},
   "cell_type": "markdown",
   "metadata": {},
   "source": [
    "Si bien el test no rechaza la homocedasticidad de los errores el p valor es cercano al nivel de significación y se aprecia una leve estructura en la gráfica."
   ]
  },
  {
   "attachments": {},
   "cell_type": "markdown",
   "metadata": {},
   "source": [
    "### Detección de Outliers"
   ]
  },
  {
   "attachments": {},
   "cell_type": "markdown",
   "metadata": {},
   "source": [
    "En ocasiones una observación o un subgrupo de observaciones puede presentarse muy alejado del conjunto mayoritario de observaciones o no seguir exactamente el patrón de relación del conjunto general. Esta\n",
    "observación o conjunto de observaciones pueden ser outliers, pero también pueden ser valores influyentes. Veamos la aplicación en R para el ejemplo de los frutos de damasco:"
   ]
  },
  {
   "cell_type": "code",
   "execution_count": 13,
   "metadata": {
    "vscode": {
     "languageId": "r"
    }
   },
   "outputs": [
    {
     "data": {
      "text/plain": [
       "No Studentized residuals with Bonferroni p < 0.05\n",
       "Largest |rstudent|:\n",
       "   rstudent unadjusted p-value Bonferroni p\n",
       "16 1.797485           0.095514           NA"
      ]
     },
     "metadata": {},
     "output_type": "display_data"
    }
   ],
   "source": [
    "outlierTest( mod_hojas )"
   ]
  },
  {
   "attachments": {},
   "cell_type": "markdown",
   "metadata": {},
   "source": [
    "La observación 16 quedó selalada como valor extremo u outlier. Es posible dibujar los resultados de la prueba de Bonferroni para cada observación. En la siguiente figura se observa que sólo la observación 16\n",
    "es identificada como un posible outlier ya que su valor-p es muy pequeño."
   ]
  },
  {
   "cell_type": "code",
   "execution_count": 16,
   "metadata": {
    "vscode": {
     "languageId": "r"
    }
   },
   "outputs": [
    {
     "data": {
      "image/png": "[encoded data removed]",
      "text/plain": [
       "plot without title"
      ]
     },
     "metadata": {
      "image/png": {
       "height": 420,
       "width": 420
      }
     },
     "output_type": "display_data"
    }
   ],
   "source": [
    "influenceIndexPlot( mod_hojas, vars=\"Bonf\", las=1, col=\"blue\")"
   ]
  },
  {
   "attachments": {},
   "cell_type": "markdown",
   "metadata": {},
   "source": [
    "### Distancia de Cook: aplicación"
   ]
  },
  {
   "cell_type": "code",
   "execution_count": 17,
   "metadata": {
    "vscode": {
     "languageId": "r"
    }
   },
   "outputs": [
    {
     "data": {
      "image/png": "[encoded data removed]",
      "text/plain": [
       "plot without title"
      ]
     },
     "metadata": {
      "image/png": {
       "height": 420,
       "width": 420
      }
     },
     "output_type": "display_data"
    }
   ],
   "source": [
    "influenceIndexPlot( mod_hojas, vars = 'Cook' , las = 1, col = 'blue' )"
   ]
  },
  {
   "attachments": {},
   "cell_type": "markdown",
   "metadata": {},
   "source": [
    "### DFFITS"
   ]
  },
  {
   "attachments": {},
   "cell_type": "markdown",
   "metadata": {},
   "source": [
    "Cuantifican la influencia de la i-ésima observación sobre su propio valor predicho o ajustado. Las observaciones con DFFITS superiores a 2 sqrt( p/n ) en valor absoluto\n",
    "se consideran influyentes."
   ]
  },
  {
   "cell_type": "code",
   "execution_count": 66,
   "metadata": {
    "vscode": {
     "languageId": "r"
    }
   },
   "outputs": [
    {
     "data": {
      "image/png": "[encoded data removed]",
      "text/plain": [
       "plot without title"
      ]
     },
     "metadata": {
      "image/png": {
       "height": 420,
       "width": 420
      }
     },
     "output_type": "display_data"
    }
   ],
   "source": [
    "df <- mod_hojas$df.residual\n",
    "\n",
    "p <- length( mod_hojas$coefficients )\n",
    "n <- nrow( hojas )\n",
    "\n",
    "dffits_crit <- 2*sqrt( p/n )\n",
    "dffits <- dffits( mod_hojas )\n",
    "\n",
    "df <- data.frame( obs = names( dffits ), dffits = dffits )\n",
    "\n",
    "ggplot( df, aes( y = dffits, x = obs ) ) + \n",
    "    geom_point( color = '#013ADF' ) +\n",
    "    geom_hline( yintercept = c( dffits_crit, -dffits_crit ), linetype = 'dashed' ) + \n",
    "    labs( title = 'DFFITS', \n",
    "        subtitle = 'Observaciones Influyentes' , \n",
    "        x = 'Orden de Observación' , \n",
    "        y = 'DFFITS' ) +\n",
    "    theme_bw()"
   ]
  },
  {
   "attachments": {},
   "cell_type": "markdown",
   "metadata": {},
   "source": [
    "Nuevamente es la observación 16 la que se destaca con un valor alto de DFFITS."
   ]
  },
  {
   "attachments": {},
   "cell_type": "markdown",
   "metadata": {},
   "source": [
    "### DFBETA"
   ]
  },
  {
   "attachments": {},
   "cell_type": "markdown",
   "metadata": {},
   "source": [
    "El valor de DFbeta indica el impacto de una observación sobre la estimación del coeficiente del modelo medido sobre dicho coeficiente, mientras que la distancia de Cook lo mide sobre los valores estimados.\n",
    "El valor de corte para el DFBeta es 1.\n",
    "\n",
    "Veamos cómo buscar en R observaciones con DFbeta alto, usamos nuevamente el ejemplo de los frutos de damasco:"
   ]
  },
  {
   "cell_type": "code",
   "execution_count": 39,
   "metadata": {
    "vscode": {
     "languageId": "r"
    }
   },
   "outputs": [
    {
     "name": "stdout",
     "output_type": "stream",
     "text": [
      "    1     2     3     4     5     6     7     8     9    10    11    12    13 \n",
      "FALSE FALSE FALSE FALSE FALSE FALSE FALSE FALSE  TRUE FALSE FALSE FALSE FALSE \n",
      "   14    15    16 \n",
      "FALSE FALSE FALSE \n"
     ]
    }
   ],
   "source": [
    "print( dfbetas( mod_hojas )[,2] > 1 ) # esta función entrega los valores estandarizados"
   ]
  },
  {
   "attachments": {},
   "cell_type": "markdown",
   "metadata": {},
   "source": [
    "En este caso tampoco se aprecian observaciones influyentes."
   ]
  },
  {
   "attachments": {},
   "cell_type": "markdown",
   "metadata": {},
   "source": [
    "### Ejemplo 5: Pulpa de papel"
   ]
  },
  {
   "attachments": {},
   "cell_type": "markdown",
   "metadata": {},
   "source": [
    "Se pretende analizar la relación existente entre la concentración de madera de la pulpa de papel, y la resistencia del papel elaborado con ésta. El objetivo del análisis es describir y cuantificar la tendencia observada. Se utiliza la base de datos madera.xlsx disponible en: https://github.com/ferdcoz/mcd-reg-adv/blob/main/datasets/madera.csv"
   ]
  },
  {
   "cell_type": "code",
   "execution_count": 52,
   "metadata": {
    "vscode": {
     "languageId": "r"
    }
   },
   "outputs": [
    {
     "name": "stderr",
     "output_type": "stream",
     "text": [
      "\u001b[1m\u001b[22mNew names:\n",
      "\u001b[36m•\u001b[39m `` -> `...1`\n"
     ]
    }
   ],
   "source": [
    "madera = read_csv( \"https://raw.githubusercontent.com/ferdcoz/mcd-reg-adv/main/datasets/madera.csv\" , show_col_types = FALSE)"
   ]
  },
  {
   "cell_type": "code",
   "execution_count": 53,
   "metadata": {
    "vscode": {
     "languageId": "r"
    }
   },
   "outputs": [
    {
     "data": {
      "text/plain": [
       "\n",
       "Call:\n",
       "lm(formula = resist ~ madera, data = madera)\n",
       "\n",
       "Residuals:\n",
       "    Min      1Q  Median      3Q     Max \n",
       "-25.932  -3.922   2.907   7.742  15.840 \n",
       "\n",
       "Coefficients:\n",
       "            Estimate Std. Error t value Pr(>|t|)   \n",
       "(Intercept)  21.4023     5.4742   3.910  0.00113 **\n",
       "madera        1.7620     0.6541   2.694  0.01537 * \n",
       "---\n",
       "Signif. codes:  0 '***' 0.001 '**' 0.01 '*' 0.05 '.' 0.1 ' ' 1\n",
       "\n",
       "Residual standard error: 11.86 on 17 degrees of freedom\n",
       "Multiple R-squared:  0.2992,\tAdjusted R-squared:  0.258 \n",
       "F-statistic: 7.257 on 1 and 17 DF,  p-value: 0.01537\n"
      ]
     },
     "metadata": {},
     "output_type": "display_data"
    }
   ],
   "source": [
    "mod_mad = lm( resist ~ madera, data = madera )\n",
    "summary( mod_mad )"
   ]
  },
  {
   "attachments": {},
   "cell_type": "markdown",
   "metadata": {},
   "source": [
    "Si bien el modelo es adecuado se observa que el valor del coeficiente de determinación no parece importante."
   ]
  },
  {
   "cell_type": "code",
   "execution_count": 51,
   "metadata": {
    "vscode": {
     "languageId": "r"
    }
   },
   "outputs": [
    {
     "data": {
      "image/png": "[encoded data removed]",
      "text/plain": [
       "plot without title"
      ]
     },
     "metadata": {
      "image/png": {
       "height": 420,
       "width": 420
      }
     },
     "output_type": "display_data"
    }
   ],
   "source": [
    "coef = mod_mad$coefficients\n",
    "\n",
    "ggplot( madera, aes( madera, resist ) ) + \n",
    "    geom_point( color = '#8A2908' ) +\n",
    "    geom_abline( intercept = coef[1], \n",
    "        slope = coef[2], \n",
    "        linetype = 'dashed' , \n",
    "        color = '#2E2E2E' ) +\n",
    "    labs( x = 'Concentración de madera' , y = 'Resistencia del papel' ) +\n",
    "    theme_bw()"
   ]
  },
  {
   "attachments": {},
   "cell_type": "markdown",
   "metadata": {},
   "source": [
    "### Análisis de normalidad de los residuos"
   ]
  },
  {
   "cell_type": "code",
   "execution_count": 54,
   "metadata": {
    "vscode": {
     "languageId": "r"
    }
   },
   "outputs": [
    {
     "data": {
      "text/plain": [
       "\n",
       "\tShapiro-Wilk normality test\n",
       "\n",
       "data:  residuals(mod_mad)\n",
       "W = 0.93389, p-value = 0.2042\n"
      ]
     },
     "metadata": {},
     "output_type": "display_data"
    },
    {
     "data": {
      "text/html": [
       "<style>\n",
       ".list-inline {list-style: none; margin:0; padding: 0}\n",
       ".list-inline>li {display: inline-block}\n",
       ".list-inline>li:not(:last-child)::after {content: \"\\00b7\"; padding: 0 .5ex}\n",
       "</style>\n",
       "<ol class=list-inline><li>19</li><li>18</li></ol>\n"
      ],
      "text/latex": [
       "\\begin{enumerate*}\n",
       "\\item 19\n",
       "\\item 18\n",
       "\\end{enumerate*}\n"
      ],
      "text/markdown": [
       "1. 19\n",
       "2. 18\n",
       "\n",
       "\n"
      ],
      "text/plain": [
       "[1] 19 18"
      ]
     },
     "metadata": {},
     "output_type": "display_data"
    },
    {
     "data": {
      "image/png": "[encoded data removed]",
      "text/plain": [
       "Plot with title \"QQplot para los residuos del Modelo Lineal\""
      ]
     },
     "metadata": {
      "image/png": {
       "height": 420,
       "width": 420
      }
     },
     "output_type": "display_data"
    }
   ],
   "source": [
    "# Analizamos normalidad\n",
    "shapiro.test( residuals( mod_mad ) )\n",
    "\n",
    "qqPlot( residuals( mod_mad ), \n",
    "    pch = 19, \n",
    "    main = 'QQplot para los residuos del Modelo Lineal',\n",
    "    xlab = 'Cuantiles teóricos',\n",
    "    ylab = 'Cuantiles muestrales' )"
   ]
  },
  {
   "attachments": {},
   "cell_type": "markdown",
   "metadata": {},
   "source": [
    "No se aprecian apartamientos del supuesto de normalidad, ni en el test de Shapiro, ni en el qqplot, sin embargo se señalan un par de puntos problemáticos: el primero y el catorceavo."
   ]
  },
  {
   "attachments": {},
   "cell_type": "markdown",
   "metadata": {},
   "source": [
    "### Independencia de los Residuos"
   ]
  },
  {
   "cell_type": "code",
   "execution_count": 55,
   "metadata": {
    "vscode": {
     "languageId": "r"
    }
   },
   "outputs": [
    {
     "data": {
      "text/plain": [
       "\n",
       "\tDurbin-Watson test\n",
       "\n",
       "data:  mod_mad\n",
       "DW = 0.24226, p-value = 1.435e-09\n",
       "alternative hypothesis: true autocorrelation is not 0\n"
      ]
     },
     "metadata": {},
     "output_type": "display_data"
    }
   ],
   "source": [
    "# Analizamos independencia\n",
    "dwtest( mod_mad, alternative ='two.sided', iterations = 1000 )"
   ]
  },
  {
   "attachments": {},
   "cell_type": "markdown",
   "metadata": {},
   "source": [
    "No se evidencian violaciones del supuesto de independencia."
   ]
  },
  {
   "attachments": {},
   "cell_type": "markdown",
   "metadata": {},
   "source": [
    "### Buscamos Outliers"
   ]
  },
  {
   "cell_type": "code",
   "execution_count": 57,
   "metadata": {
    "vscode": {
     "languageId": "r"
    }
   },
   "outputs": [
    {
     "data": {
      "text/plain": [
       "No Studentized residuals with Bonferroni p < 0.05\n",
       "Largest |rstudent|:\n",
       "    rstudent unadjusted p-value Bonferroni p\n",
       "19 -3.050559          0.0076298      0.14497"
      ]
     },
     "metadata": {},
     "output_type": "display_data"
    }
   ],
   "source": [
    "# Detectamos presencia de outliers\n",
    "outlierTest( mod_mad )"
   ]
  },
  {
   "attachments": {},
   "cell_type": "markdown",
   "metadata": {},
   "source": [
    "### Bonferroni"
   ]
  },
  {
   "cell_type": "code",
   "execution_count": 58,
   "metadata": {
    "vscode": {
     "languageId": "r"
    }
   },
   "outputs": [
    {
     "data": {
      "image/png": "[encoded data removed]",
      "text/plain": [
       "plot without title"
      ]
     },
     "metadata": {
      "image/png": {
       "height": 420,
       "width": 420
      }
     },
     "output_type": "display_data"
    }
   ],
   "source": [
    "influenceIndexPlot( mod_mad, vars = 'Bonf', las = 1, col = 'blue')"
   ]
  },
  {
   "attachments": {},
   "cell_type": "markdown",
   "metadata": {},
   "source": [
    "Nuevamente se destacan las mismas observaciones que en el gráafico cuantil-cuantil de los residuos."
   ]
  },
  {
   "attachments": {},
   "cell_type": "markdown",
   "metadata": {},
   "source": [
    "### Buscamos puntos influyentes"
   ]
  },
  {
   "cell_type": "code",
   "execution_count": 59,
   "metadata": {
    "vscode": {
     "languageId": "r"
    }
   },
   "outputs": [
    {
     "data": {
      "text/html": [
       "0"
      ],
      "text/latex": [
       "0"
      ],
      "text/markdown": [
       "0"
      ],
      "text/plain": [
       "[1] 0"
      ]
     },
     "metadata": {},
     "output_type": "display_data"
    }
   ],
   "source": [
    "#Estudiamos el leverage\n",
    "cota = 3 * mean( hatvalues( mod_mad ) ) \n",
    "leverage <- hatvalues( mod_mad ) > cota \n",
    "sum(leverage)"
   ]
  },
  {
   "attachments": {},
   "cell_type": "markdown",
   "metadata": {},
   "source": [
    "Primero definimos la cota para este modelo, luego sumamos la cantidad de observaciones que superan la cota y en este caso ninguna lo hace. Es decir que no hay valores influyentes."
   ]
  },
  {
   "cell_type": "code",
   "execution_count": 60,
   "metadata": {
    "vscode": {
     "languageId": "r"
    }
   },
   "outputs": [
    {
     "data": {
      "image/png": "[encoded data removed]",
      "text/plain": [
       "plot without title"
      ]
     },
     "metadata": {
      "image/png": {
       "height": 420,
       "width": 420
      }
     },
     "output_type": "display_data"
    }
   ],
   "source": [
    "# Buscamos influencia por distancias de Cook\n",
    "influenceIndexPlot( mod_mad, vars = 'Cook', las = 1, col = 'blue' )"
   ]
  },
  {
   "attachments": {},
   "cell_type": "markdown",
   "metadata": {},
   "source": [
    "La distancia de Cook correspondiente a las observaciones 1 y 14 quedan señaladas."
   ]
  },
  {
   "cell_type": "code",
   "execution_count": 65,
   "metadata": {
    "vscode": {
     "languageId": "r"
    }
   },
   "outputs": [
    {
     "data": {
      "image/png": "[encoded data removed]",
      "text/plain": [
       "plot without title"
      ]
     },
     "metadata": {
      "image/png": {
       "height": 420,
       "width": 420
      }
     },
     "output_type": "display_data"
    }
   ],
   "source": [
    "#Estudiamos los DFFITS\n",
    "\n",
    "dffits_crit = 2 * sqrt( p/n )\n",
    "dffits <- dffits( mod_mad )\n",
    "\n",
    "df <- data.frame( obs = names( dffits ), dffits = dffits )\n",
    "\n",
    "ggplot( df, aes( y = dffits, x = obs ) ) +\n",
    "    geom_point( color = '#013ADF' ) +\n",
    "    geom_hline( yintercept = c( dffits_crit, -dffits_crit ), \n",
    "        linetype = 'dashed' ) +\n",
    "    labs( title = 'DFFITS', \n",
    "        subtitle = 'Observaciones Influyentes', \n",
    "        x = 'Orden de Observación', \n",
    "        y = 'DFFITS') + \n",
    "    theme_bw()"
   ]
  },
  {
   "attachments": {},
   "cell_type": "markdown",
   "metadata": {},
   "source": [
    "Las observaciones 1, 14 y 20 superan la cota establecida para los DFFITS. Con la cota 3 * sqrt ( p / n ), sóolo la observación 19 caería fuera."
   ]
  },
  {
   "cell_type": "code",
   "execution_count": 63,
   "metadata": {
    "vscode": {
     "languageId": "r"
    }
   },
   "outputs": [
    {
     "data": {
      "text/html": [
       "0"
      ],
      "text/latex": [
       "0"
      ],
      "text/markdown": [
       "0"
      ],
      "text/plain": [
       "[1] 0"
      ]
     },
     "metadata": {},
     "output_type": "display_data"
    }
   ],
   "source": [
    "# Estudiamos los DFBetas\n",
    "sum( dfbetas( mod_mad )[, 2] > 1 )"
   ]
  },
  {
   "attachments": {},
   "cell_type": "markdown",
   "metadata": {},
   "source": [
    "No hay observaciones con DFBeta superior a la cota."
   ]
  },
  {
   "attachments": {},
   "cell_type": "markdown",
   "metadata": {},
   "source": [
    "### Homocedasticidad de los Residuos"
   ]
  },
  {
   "cell_type": "code",
   "execution_count": 64,
   "metadata": {
    "vscode": {
     "languageId": "r"
    }
   },
   "outputs": [
    {
     "data": {
      "text/plain": [
       "\n",
       "\tstudentized Breusch-Pagan test\n",
       "\n",
       "data:  mod_mad\n",
       "BP = 4.0786, df = 1, p-value = 0.04343\n"
      ]
     },
     "metadata": {},
     "output_type": "display_data"
    },
    {
     "data": {
      "image/png": "[encoded data removed]",
      "text/plain": [
       "plot without title"
      ]
     },
     "metadata": {
      "image/png": {
       "height": 420,
       "width": 420
      }
     },
     "output_type": "display_data"
    }
   ],
   "source": [
    " # test de Breusch Pagan\n",
    "bptest( mod_mad )\n",
    "\n",
    "ajustados <- mod_mad$fitted.values\n",
    "residuos <- residuals( mod_mad )\n",
    "databp <- data.frame( ajustados, residuos )\n",
    "\n",
    "ggplot( databp, aes( x = ajustados, y = residuos ) ) +\n",
    "    geom_point( color = '#013ADF', \n",
    "        fill = '#013ADF', \n",
    "        size = 4, \n",
    "        shape = 18, \n",
    "        alpha = 0.5) + \n",
    "    xlab( 'ajustados') +\n",
    "    geom_abline( slope = 0, linetype = 'dashed') +\n",
    "    theme_bw()"
   ]
  },
  {
   "attachments": {},
   "cell_type": "markdown",
   "metadata": {},
   "source": [
    "No se rechaza la hipótesis de homocedasticidad de los residuos, pero se aprecia estructura en los mismos."
   ]
  },
  {
   "attachments": {},
   "cell_type": "markdown",
   "metadata": {},
   "source": [
    "### ¿Cómo podemos resolver este problema?"
   ]
  },
  {
   "attachments": {},
   "cell_type": "markdown",
   "metadata": {},
   "source": [
    "Vamos a incorporar una nueva variable al modelo sugerida por la estructura de los residuos. Nos estamos yendo a un modelo de regresión lineal múltiple dado que estamos proponiendo dos variables predictoras o explicativas."
   ]
  },
  {
   "cell_type": "code",
   "execution_count": 67,
   "metadata": {
    "vscode": {
     "languageId": "r"
    }
   },
   "outputs": [
    {
     "data": {
      "text/plain": [
       "\n",
       "Call:\n",
       "lm(formula = resist ~ madera + I(madera^2), data = madera)\n",
       "\n",
       "Residuals:\n",
       "    Min      1Q  Median      3Q     Max \n",
       "-5.8124 -3.1623 -0.4507  4.0181  6.4429 \n",
       "\n",
       "Coefficients:\n",
       "            Estimate Std. Error t value Pr(>|t|)    \n",
       "(Intercept) -7.51750    3.35526  -2.241   0.0396 *  \n",
       "madera      11.95650    0.98378  12.154 1.71e-09 ***\n",
       "I(madera^2) -0.64419    0.06034 -10.676 1.10e-08 ***\n",
       "---\n",
       "Signif. codes:  0 '***' 0.001 '**' 0.01 '*' 0.05 '.' 0.1 ' ' 1\n",
       "\n",
       "Residual standard error: 4.288 on 16 degrees of freedom\n",
       "Multiple R-squared:  0.9137,\tAdjusted R-squared:  0.9029 \n",
       "F-statistic: 84.73 on 2 and 16 DF,  p-value: 3.069e-09\n"
      ]
     },
     "metadata": {},
     "output_type": "display_data"
    }
   ],
   "source": [
    "mod_mad2 <- lm( resist ~ madera + I( madera**2 ), data = madera )\n",
    "\n",
    "summary( mod_mad2 )"
   ]
  },
  {
   "attachments": {},
   "cell_type": "markdown",
   "metadata": {},
   "source": [
    "### Interpretación de la salida"
   ]
  },
  {
   "attachments": {},
   "cell_type": "markdown",
   "metadata": {},
   "source": [
    "* Ambos coeficientes resultan significativos.\n",
    "\n",
    "* La regresión es significativa.\n",
    "\n",
    "* El poder explicativo del modelo aumentó considerablemente.\n",
    "\n",
    "Sin embargo, resta realizar el análisis diagnóstico del nuevo modelo."
   ]
  },
  {
   "cell_type": "code",
   "execution_count": 68,
   "metadata": {
    "vscode": {
     "languageId": "r"
    }
   },
   "outputs": [
    {
     "data": {
      "text/plain": [
       "\n",
       "\tstudentized Breusch-Pagan test\n",
       "\n",
       "data:  mod_mad2\n",
       "BP = 7.4048, df = 2, p-value = 0.02466\n"
      ]
     },
     "metadata": {},
     "output_type": "display_data"
    },
    {
     "data": {
      "image/png": "[encoded data removed]",
      "text/plain": [
       "plot without title"
      ]
     },
     "metadata": {
      "image/png": {
       "height": 420,
       "width": 420
      }
     },
     "output_type": "display_data"
    }
   ],
   "source": [
    " # test de Breusch Pagan\n",
    "bptest( mod_mad2 )\n",
    "\n",
    "ajustados <- mod_mad2$fitted.values\n",
    "residuos <- residuals( mod_mad2 )\n",
    "databp <- data.frame( ajustados, residuos )\n",
    "\n",
    "ggplot( databp, aes( x = ajustados, y = residuos ) ) +\n",
    "    geom_point( color = '#013ADF', \n",
    "        fill = '#013ADF', \n",
    "        size = 4, \n",
    "        shape = 18, \n",
    "        alpha = 0.5) + \n",
    "    xlab( 'ajustados') +\n",
    "    geom_abline( slope = 0, linetype = 'dashed') +\n",
    "    theme_bw()"
   ]
  },
  {
   "attachments": {},
   "cell_type": "markdown",
   "metadata": {},
   "source": [
    "### Conclusiones Finales"
   ]
  },
  {
   "attachments": {},
   "cell_type": "markdown",
   "metadata": {},
   "source": [
    "Todos los análisis realizados se repiten y no aparecen outliers ni observaciones muy influyentes, luego volvemos a graficar los residuos versus los ajustados y visualizamos que ya no hay estructura."
   ]
  },
  {
   "attachments": {},
   "cell_type": "markdown",
   "metadata": {},
   "source": [
    "### Ejemplo 7: cars"
   ]
  },
  {
   "attachments": {},
   "cell_type": "markdown",
   "metadata": {},
   "source": [
    "Utilizamos la base de datos cars de la biblioteca datasets, Intentaremos ajustar un modelo para estimar la distancia en función de la velocidad."
   ]
  },
  {
   "cell_type": "code",
   "execution_count": 69,
   "metadata": {
    "vscode": {
     "languageId": "r"
    }
   },
   "outputs": [
    {
     "data": {
      "text/plain": [
       "\n",
       "Call:\n",
       "lm(formula = dist ~ speed, data = cars)\n",
       "\n",
       "Residuals:\n",
       "    Min      1Q  Median      3Q     Max \n",
       "-29.069  -9.525  -2.272   9.215  43.201 \n",
       "\n",
       "Coefficients:\n",
       "            Estimate Std. Error t value Pr(>|t|)    \n",
       "(Intercept) -17.5791     6.7584  -2.601   0.0123 *  \n",
       "speed         3.9324     0.4155   9.464 1.49e-12 ***\n",
       "---\n",
       "Signif. codes:  0 '***' 0.001 '**' 0.01 '*' 0.05 '.' 0.1 ' ' 1\n",
       "\n",
       "Residual standard error: 15.38 on 48 degrees of freedom\n",
       "Multiple R-squared:  0.6511,\tAdjusted R-squared:  0.6438 \n",
       "F-statistic: 89.57 on 1 and 48 DF,  p-value: 1.49e-12\n"
      ]
     },
     "metadata": {},
     "output_type": "display_data"
    }
   ],
   "source": [
    "data( 'cars', package = 'datasets' )\n",
    "\n",
    "mod_cars <- lm( dist ~ speed, data = cars )\n",
    "\n",
    "summary( mod_cars ) # Visualizamos el ajuste del modelo propuesto"
   ]
  },
  {
   "attachments": {},
   "cell_type": "markdown",
   "metadata": {},
   "source": [
    "El modelo ajusta razonablemente bien, sin embargo falta analizar los supuestos del modelo. Veamos la normalidad de los residuos."
   ]
  },
  {
   "cell_type": "code",
   "execution_count": 70,
   "metadata": {
    "vscode": {
     "languageId": "r"
    }
   },
   "outputs": [
    {
     "data": {
      "text/plain": [
       "\n",
       "\tShapiro-Wilk normality test\n",
       "\n",
       "data:  mod_cars$residuals\n",
       "W = 0.94509, p-value = 0.02152\n"
      ]
     },
     "metadata": {},
     "output_type": "display_data"
    }
   ],
   "source": [
    "# Analizamos la normalidad de los residuos\n",
    "shapiro.test( mod_cars$residuals )"
   ]
  },
  {
   "cell_type": "code",
   "execution_count": 71,
   "metadata": {
    "vscode": {
     "languageId": "r"
    }
   },
   "outputs": [
    {
     "data": {
      "text/html": [
       "<style>\n",
       ".list-inline {list-style: none; margin:0; padding: 0}\n",
       ".list-inline>li {display: inline-block}\n",
       ".list-inline>li:not(:last-child)::after {content: \"\\00b7\"; padding: 0 .5ex}\n",
       "</style>\n",
       "<ol class=list-inline><li>49</li><li>23</li></ol>\n"
      ],
      "text/latex": [
       "\\begin{enumerate*}\n",
       "\\item 49\n",
       "\\item 23\n",
       "\\end{enumerate*}\n"
      ],
      "text/markdown": [
       "1. 49\n",
       "2. 23\n",
       "\n",
       "\n"
      ],
      "text/plain": [
       "[1] 49 23"
      ]
     },
     "metadata": {},
     "output_type": "display_data"
    },
    {
     "data": {
      "image/png": "[encoded data removed]",
      "text/plain": [
       "Plot with title \"QQplot para los residuos del Modelo Lineal\""
      ]
     },
     "metadata": {
      "image/png": {
       "height": 420,
       "width": 420
      }
     },
     "output_type": "display_data"
    }
   ],
   "source": [
    "qqPlot( mod_cars$residuals, pch = 19,\n",
    "    main = \"QQplot para los residuos del Modelo Lineal\",\n",
    "    xlab = \"Cuantiles teóricos\",\n",
    "    ylab = \"Cuantiles muestrales\" )"
   ]
  },
  {
   "attachments": {},
   "cell_type": "markdown",
   "metadata": {},
   "source": [
    "Vemos que los residuos no satisfacen el supuesto de normalidad."
   ]
  },
  {
   "attachments": {},
   "cell_type": "markdown",
   "metadata": {},
   "source": [
    "### Transformación de Box & Cox"
   ]
  },
  {
   "cell_type": "code",
   "execution_count": 77,
   "metadata": {
    "vscode": {
     "languageId": "r"
    }
   },
   "outputs": [
    {
     "data": {
      "image/png": "[encoded data removed]",
      "text/plain": [
       "plot without title"
      ]
     },
     "metadata": {
      "image/png": {
       "height": 420,
       "width": 420
      }
     },
     "output_type": "display_data"
    }
   ],
   "source": [
    "# Buscamos la mejor transf de Box & Cox para normalizar los residuos\n",
    "boxcox( object = mod_cars, plotit = TRUE )"
   ]
  },
  {
   "attachments": {},
   "cell_type": "markdown",
   "metadata": {},
   "source": [
    "El gráfico señala que la mejor opción de λ es cercana a 0.5. También se puede pedir el valor exacto de la grilla que maximiza la logverosimilitud."
   ]
  },
  {
   "cell_type": "code",
   "execution_count": 74,
   "metadata": {
    "vscode": {
     "languageId": "r"
    }
   },
   "outputs": [
    {
     "data": {
      "text/plain": [
       "\n",
       "Call:\n",
       "lm(formula = dist^0.5 ~ speed, data = cars)\n",
       "\n",
       "Residuals:\n",
       "    Min      1Q  Median      3Q     Max \n",
       "-2.0684 -0.6983 -0.1799  0.5909  3.1534 \n",
       "\n",
       "Coefficients:\n",
       "            Estimate Std. Error t value Pr(>|t|)    \n",
       "(Intercept)  1.27705    0.48444   2.636   0.0113 *  \n",
       "speed        0.32241    0.02978  10.825 1.77e-14 ***\n",
       "---\n",
       "Signif. codes:  0 '***' 0.001 '**' 0.01 '*' 0.05 '.' 0.1 ' ' 1\n",
       "\n",
       "Residual standard error: 1.102 on 48 degrees of freedom\n",
       "Multiple R-squared:  0.7094,\tAdjusted R-squared:  0.7034 \n",
       "F-statistic: 117.2 on 1 and 48 DF,  p-value: 1.773e-14\n"
      ]
     },
     "metadata": {},
     "output_type": "display_data"
    }
   ],
   "source": [
    "mod_cars2 <- lm( dist^0.5 ~ speed, data = cars )\n",
    "\n",
    "summary( mod_cars2 ) # Visualizamos el ajuste del nuevo modelo propuesto"
   ]
  },
  {
   "cell_type": "code",
   "execution_count": 75,
   "metadata": {
    "vscode": {
     "languageId": "r"
    }
   },
   "outputs": [
    {
     "data": {
      "text/html": [
       "<style>\n",
       ".list-inline {list-style: none; margin:0; padding: 0}\n",
       ".list-inline>li {display: inline-block}\n",
       ".list-inline>li:not(:last-child)::after {content: \"\\00b7\"; padding: 0 .5ex}\n",
       "</style>\n",
       "<ol class=list-inline><li>23</li><li>35</li></ol>\n"
      ],
      "text/latex": [
       "\\begin{enumerate*}\n",
       "\\item 23\n",
       "\\item 35\n",
       "\\end{enumerate*}\n"
      ],
      "text/markdown": [
       "1. 23\n",
       "2. 35\n",
       "\n",
       "\n"
      ],
      "text/plain": [
       "[1] 23 35"
      ]
     },
     "metadata": {},
     "output_type": "display_data"
    },
    {
     "data": {
      "image/png": "[encoded data removed]",
      "text/plain": [
       "Plot with title \"QQplot para los residuos del Modelo Lineal\""
      ]
     },
     "metadata": {
      "image/png": {
       "height": 420,
       "width": 420
      }
     },
     "output_type": "display_data"
    }
   ],
   "source": [
    "qqPlot( mod_cars2$residuals, pch = 19,\n",
    "    main = \"QQplot para los residuos del Modelo Lineal\",\n",
    "    xlab = \"Cuantiles teóricos\",\n",
    "    ylab = \"Cuantiles muestrales\" )"
   ]
  },
  {
   "attachments": {},
   "cell_type": "markdown",
   "metadata": {},
   "source": [
    "Ahora se satisface el supuesto de normalidad de los residuos, sin embargo debemos ser cuidadosos en la interpretación del modelo."
   ]
  },
  {
   "attachments": {},
   "cell_type": "markdown",
   "metadata": {},
   "source": [
    "## 2. Cuadrados Mínimos Ponderados"
   ]
  },
  {
   "attachments": {},
   "cell_type": "markdown",
   "metadata": {},
   "source": [
    "### Ejemplo 8: choferes"
   ]
  },
  {
   "attachments": {},
   "cell_type": "markdown",
   "metadata": {},
   "source": [
    "Se desea estimar el número de inspectores adecuado para una línea de transporte urbano basado en el número de choferes de la misma. Para ello se dispone de datos de 29 líneas de transporte de esa ciudad y su correspondiente\n",
    "número de choferes. Los datos están en: "
   ]
  },
  {
   "cell_type": "code",
   "execution_count": null,
   "metadata": {
    "vscode": {
     "languageId": "r"
    }
   },
   "outputs": [],
   "source": [
    "# Ajustamos un modelo de cuadrados mínimos ordinarios\n",
    "ols_inspec <- lm( inspectores ~ choferes, data = inspectores )\n",
    "summary( ols_inspec )"
   ]
  },
  {
   "attachments": {},
   "cell_type": "markdown",
   "metadata": {},
   "source": [
    "El modelo planteado resulta significativo, falta verificar el cumplimiento de los supuestos del modelo."
   ]
  },
  {
   "cell_type": "code",
   "execution_count": null,
   "metadata": {
    "vscode": {
     "languageId": "r"
    }
   },
   "outputs": [],
   "source": [
    "resid_inspec <- ols_inspec$residuals # almacenamos los residuos\n",
    "ajust_insp <- ols_inspec$fitted.values # idem valores ajustados\n",
    "shapiro.test( resid_inspec ) # testeamos la normalidad de los residuos\n",
    "bptest(ols_inspec) # verificamos el supuesto de homocedasticidad"
   ]
  },
  {
   "attachments": {},
   "cell_type": "markdown",
   "metadata": {},
   "source": [
    "Se verifica normalidad, pero no se verifica homocedasticidad. Inspeccionamos la gráfica los residuos vs valores ajustados."
   ]
  },
  {
   "cell_type": "code",
   "execution_count": null,
   "metadata": {
    "vscode": {
     "languageId": "r"
    }
   },
   "outputs": [],
   "source": [
    "ggplot( dat_insp, aes( x = ajust_insp, y = resid_inspec ) ) +\n",
    "    geom_point( color = '#013ADF', \n",
    "        fill = '#013ADF', \n",
    "        size = 4,\n",
    "        shape = 18, \n",
    "        alpha = 0.5) + \n",
    "    xlab( 'ajustados' )+\n",
    "    geom_abline( slope = 0, linetype = 'dashed') +\n",
    "    theme_bw()"
   ]
  },
  {
   "attachments": {},
   "cell_type": "markdown",
   "metadata": {},
   "source": [
    "Se aprecia en esta figura que la variabilidad de los residuos aumenta conforme aumentan los valores ajustados. Vamos a intentar con un modelo de cuadrados mínimos ponderados."
   ]
  },
  {
   "cell_type": "code",
   "execution_count": null,
   "metadata": {
    "vscode": {
     "languageId": "r"
    }
   },
   "outputs": [],
   "source": [
    "fited <- lm( abs( ols_inspec$residuals ) ~ ols_inspec$fitted.values )$residuals\n",
    "pesos <- I( 1/ols_inspec$fitted.values2 ) # definimos el modelo con los pesos\n",
    "wls_inspec <- lm( inspectores ~ choferes, weights = pesos, data = inspectores )\n",
    "summary( wls_inspec )"
   ]
  },
  {
   "attachments": {},
   "cell_type": "markdown",
   "metadata": {},
   "source": [
    "Este modelo también es adecuado, el valor del R2 adj es similar pero el valor residual en el primero es 64.47, mientras que en el segundo es 0.339, lo cual dice que este último es mejor."
   ]
  },
  {
   "attachments": {},
   "cell_type": "markdown",
   "metadata": {},
   "source": [
    "## 3. Modelos Robustos"
   ]
  },
  {
   "attachments": {},
   "cell_type": "markdown",
   "metadata": {},
   "source": [
    "### Ejemplo 8: Modelos Robustos en R"
   ]
  },
  {
   "attachments": {},
   "cell_type": "markdown",
   "metadata": {},
   "source": [
    "La base de datos Duncan disponible en la biblioteca 'carData' tiene 45 observaciones y 4 variables. Estos datos corresponden a ocupaciones de\n",
    "EEUU con sus correspondientes valoraciones de prestigio en el año 1950."
   ]
  },
  {
   "attachments": {},
   "cell_type": "markdown",
   "metadata": {},
   "source": [
    "* type: factor con tipo de ocupación. Niveles: docente, profesional, gerencial; de cuello blanco y cuello azul.\n",
    "\n",
    "* income: porcentaje de personas ocupadas con ese cargo en el censo de 1950 que ganaban más de 3500 dólares por año.\n",
    "\n",
    "* education: porcentaje de personas ocupadas con ese cargo que tenían terminados sus estudios secundarios.\n",
    "\n",
    "* prestige: porcentajes de opiniones en una encuesta que valoraron el cargo como prestigioso."
   ]
  },
  {
   "cell_type": "code",
   "execution_count": 2,
   "metadata": {
    "vscode": {
     "languageId": "r"
    }
   },
   "outputs": [
    {
     "name": "stderr",
     "output_type": "stream",
     "text": [
      "\u001b[1m\u001b[22m`stat_bin()` using `bins = 30`. Pick better value with `binwidth`.\n",
      "\u001b[1m\u001b[22m`stat_bin()` using `bins = 30`. Pick better value with `binwidth`.\n",
      "\u001b[1m\u001b[22m`stat_bin()` using `bins = 30`. Pick better value with `binwidth`.\n"
     ]
    },
    {
     "data": {
      "image/png": "[encoded data removed]",
      "text/plain": [
       "plot without title"
      ]
     },
     "metadata": {
      "image/png": {
       "height": 420,
       "width": 420
      }
     },
     "output_type": "display_data"
    }
   ],
   "source": [
    "ggpairs( Duncan, mapping = aes(color = type) )"
   ]
  },
  {
   "attachments": {},
   "cell_type": "markdown",
   "metadata": {},
   "source": [
    "Se aprecia una relación lineal razonable entre el ingreso, la educación y el prestigio. Vamos a tratar de explicar el ingreso a partir de la educaciónn."
   ]
  },
  {
   "cell_type": "code",
   "execution_count": 3,
   "metadata": {
    "vscode": {
     "languageId": "r"
    }
   },
   "outputs": [
    {
     "data": {
      "text/plain": [
       "\n",
       "Call:\n",
       "lm(formula = income ~ education, data = Duncan)\n",
       "\n",
       "Residuals:\n",
       "    Min      1Q  Median      3Q     Max \n",
       "-39.572 -11.346  -1.501   9.669  53.740 \n",
       "\n",
       "Coefficients:\n",
       "            Estimate Std. Error t value Pr(>|t|)    \n",
       "(Intercept)  10.6035     5.1983   2.040   0.0475 *  \n",
       "education     0.5949     0.0863   6.893 1.84e-08 ***\n",
       "---\n",
       "Signif. codes:  0 '***' 0.001 '**' 0.01 '*' 0.05 '.' 0.1 ' ' 1\n",
       "\n",
       "Residual standard error: 17.04 on 43 degrees of freedom\n",
       "Multiple R-squared:  0.5249,\tAdjusted R-squared:  0.5139 \n",
       "F-statistic: 47.51 on 1 and 43 DF,  p-value: 1.84e-08\n"
      ]
     },
     "metadata": {},
     "output_type": "display_data"
    }
   ],
   "source": [
    "# ajustamos un modelo lineal por OLS y visualizamos la calidad del ajuste\n",
    "duncan_lm <- lm( income ~ education, data = Duncan )\n",
    "summary( duncan_lm )"
   ]
  },
  {
   "attachments": {},
   "cell_type": "markdown",
   "metadata": {},
   "source": [
    "### Calidad del ajuste"
   ]
  },
  {
   "cell_type": "code",
   "execution_count": 4,
   "metadata": {
    "vscode": {
     "languageId": "r"
    }
   },
   "outputs": [
    {
     "data": {
      "image/png": "[encoded data removed]",
      "text/plain": [
       "plot without title"
      ]
     },
     "metadata": {
      "image/png": {
       "height": 420,
       "width": 420
      }
     },
     "output_type": "display_data"
    }
   ],
   "source": [
    "ggplot( Duncan, aes( x = education, y = income ) )+\n",
    "    geom_point( col=\"#0B3B2E\" ) +\n",
    "    geom_smooth( method=lm, formula=y~x, se=TRUE, level=0.95, col=\"orange\", fill=\"gray\") +\n",
    "    labs(x = \"Educación\", y = \"Ingreso\", title = \"Ingreso vs. educación\") +\n",
    "    theme(plot.title = element_text(size = 20))"
   ]
  },
  {
   "attachments": {},
   "cell_type": "markdown",
   "metadata": {},
   "source": [
    "Se observa la presencia de datos alejados de la recta de ajuste, pueden ser outliers y también puntos influyentes. Vamos a realizar el análisis diagnóstico del modelo."
   ]
  },
  {
   "attachments": {},
   "cell_type": "markdown",
   "metadata": {},
   "source": [
    "### Normalidad de los residuos"
   ]
  },
  {
   "cell_type": "code",
   "execution_count": 5,
   "metadata": {
    "vscode": {
     "languageId": "r"
    }
   },
   "outputs": [
    {
     "data": {
      "text/plain": [
       "\n",
       "\tShapiro-Wilk normality test\n",
       "\n",
       "data:  residuos\n",
       "W = 0.94462, p-value = 0.03189\n"
      ]
     },
     "metadata": {},
     "output_type": "display_data"
    }
   ],
   "source": [
    "residuos <- duncan_lm$residuals\n",
    "shapiro.test( residuos )"
   ]
  },
  {
   "cell_type": "code",
   "execution_count": 6,
   "metadata": {
    "vscode": {
     "languageId": "r"
    }
   },
   "outputs": [
    {
     "data": {
      "text/html": [
       "<style>\n",
       ".dl-inline {width: auto; margin:0; padding: 0}\n",
       ".dl-inline>dt, .dl-inline>dd {float: none; width: auto; display: inline-block}\n",
       ".dl-inline>dt::after {content: \":\\0020\"; padding-right: .5ex}\n",
       ".dl-inline>dt:not(:first-of-type) {padding-left: .5ex}\n",
       "</style><dl class=dl-inline><dt>RR.engineer</dt><dd>27</dd><dt>conductor</dt><dd>16</dd></dl>\n"
      ],
      "text/latex": [
       "\\begin{description*}\n",
       "\\item[RR.engineer] 27\n",
       "\\item[conductor] 16\n",
       "\\end{description*}\n"
      ],
      "text/markdown": [
       "RR.engineer\n",
       ":   27conductor\n",
       ":   16\n",
       "\n"
      ],
      "text/plain": [
       "RR.engineer   conductor \n",
       "         27          16 "
      ]
     },
     "metadata": {},
     "output_type": "display_data"
    },
    {
     "data": {
      "image/png": "[encoded data removed]",
      "text/plain": [
       "Plot with title \"QQplot residuos LM\""
      ]
     },
     "metadata": {
      "image/png": {
       "height": 420,
       "width": 420
      }
     },
     "output_type": "display_data"
    }
   ],
   "source": [
    "qqPlot( residuos, pch = 19,\n",
    "    main = \"QQplot residuos LM\",\n",
    "    xlab = \"Cuantiles teóricos\",\n",
    "    ylab = \"Cuantiles muestrales\" )"
   ]
  },
  {
   "attachments": {},
   "cell_type": "markdown",
   "metadata": {},
   "source": [
    "### Homocedasticidad de los residuos"
   ]
  },
  {
   "cell_type": "code",
   "execution_count": 7,
   "metadata": {
    "vscode": {
     "languageId": "r"
    }
   },
   "outputs": [
    {
     "data": {
      "text/plain": [
       "\n",
       "\tstudentized Breusch-Pagan test\n",
       "\n",
       "data:  duncan_lm\n",
       "BP = 0.28649, df = 1, p-value = 0.5925\n"
      ]
     },
     "metadata": {},
     "output_type": "display_data"
    }
   ],
   "source": [
    "bptest( duncan_lm )"
   ]
  },
  {
   "cell_type": "code",
   "execution_count": 8,
   "metadata": {
    "vscode": {
     "languageId": "r"
    }
   },
   "outputs": [
    {
     "data": {
      "image/png": "[encoded data removed]",
      "text/plain": [
       "plot without title"
      ]
     },
     "metadata": {
      "image/png": {
       "height": 420,
       "width": 420
      }
     },
     "output_type": "display_data"
    }
   ],
   "source": [
    "ajustados <- duncan_lm$fitted.values\n",
    "databp <- data.frame( ajustados, residuos )\n",
    "\n",
    "ggplot( databp, aes( x = ajustados, y = residuos ) ) +\n",
    "    geom_point( color = \"#013ADF\", \n",
    "        fill = \"#013ADF\", \n",
    "        size = 4, \n",
    "        shape = 18, \n",
    "        alpha = 0.5) + \n",
    "    xlab( \"ajustados\" ) +\n",
    "    geom_abline( slope = 0, linetype = \"dashed\" )"
   ]
  },
  {
   "attachments": {},
   "cell_type": "markdown",
   "metadata": {},
   "source": [
    "### Exploramos la presencia de outliers"
   ]
  },
  {
   "cell_type": "code",
   "execution_count": 9,
   "metadata": {
    "vscode": {
     "languageId": "r"
    }
   },
   "outputs": [
    {
     "data": {
      "text/plain": [
       "            rstudent unadjusted p-value Bonferroni p\n",
       "RR.engineer 3.646444         0.00072729     0.032728"
      ]
     },
     "metadata": {},
     "output_type": "display_data"
    }
   ],
   "source": [
    "outlierTest( duncan_lm )"
   ]
  },
  {
   "cell_type": "code",
   "execution_count": 10,
   "metadata": {
    "vscode": {
     "languageId": "r"
    }
   },
   "outputs": [
    {
     "data": {
      "image/png": "[encoded data removed]",
      "text/plain": [
       "plot without title"
      ]
     },
     "metadata": {
      "image/png": {
       "height": 420,
       "width": 420
      }
     },
     "output_type": "display_data"
    }
   ],
   "source": [
    "influenceIndexPlot( duncan_lm, vars = 'Bonf', las = 1, col = 'blue')"
   ]
  },
  {
   "attachments": {},
   "cell_type": "markdown",
   "metadata": {},
   "source": [
    "Se aprecian como atípicos los valores del ingeniero y del conductor."
   ]
  },
  {
   "attachments": {},
   "cell_type": "markdown",
   "metadata": {},
   "source": [
    "### Medidas de Influencia"
   ]
  },
  {
   "cell_type": "code",
   "execution_count": 11,
   "metadata": {
    "vscode": {
     "languageId": "r"
    }
   },
   "outputs": [
    {
     "data": {
      "image/png": "[encoded data removed]",
      "text/plain": [
       "plot without title"
      ]
     },
     "metadata": {
      "image/png": {
       "height": 420,
       "width": 420
      }
     },
     "output_type": "display_data"
    }
   ],
   "source": [
    "influenceIndexPlot( duncan_lm, vars = 'Cook', las = 1, col = 'blue' )"
   ]
  },
  {
   "attachments": {},
   "cell_type": "markdown",
   "metadata": {},
   "source": [
    "No se detectan valores con alto leverage, si con distancia de Cook por encima de la cota."
   ]
  },
  {
   "attachments": {},
   "cell_type": "markdown",
   "metadata": {},
   "source": [
    "### DDFITS y DFBETA"
   ]
  },
  {
   "cell_type": "code",
   "execution_count": 18,
   "metadata": {
    "vscode": {
     "languageId": "r"
    }
   },
   "outputs": [
    {
     "data": {
      "image/png": "[encoded data removed]",
      "text/plain": [
       "plot without title"
      ]
     },
     "metadata": {
      "image/png": {
       "height": 420,
       "width": 420
      }
     },
     "output_type": "display_data"
    }
   ],
   "source": [
    "df <- duncan_lm$df.residual\n",
    "\n",
    "p <- length( duncan_lm$coefficients )\n",
    "n <- nrow( Duncan )\n",
    "\n",
    "dffits_crit = 2 * sqrt( p/n )\n",
    "dffits <- dffits( duncan_lm )\n",
    "\n",
    "df <- data.frame( obs = names( dffits ), dffits = dffits )\n",
    "\n",
    "ggplot( df, aes( y = dffits, x = obs ) ) +\n",
    "    geom_point( color = '#013ADF' ) +\n",
    "    geom_hline( yintercept = c( dffits_crit, -dffits_crit ), \n",
    "        linetype = 'dashed' ) +\n",
    "    labs( title = 'DFFITS', \n",
    "        subtitle = 'Observaciones Influyentes', \n",
    "        x = 'Orden de Observación', \n",
    "        y = 'DFFITS') + \n",
    "    theme_bw()"
   ]
  },
  {
   "attachments": {},
   "cell_type": "markdown",
   "metadata": {},
   "source": [
    "Las observaciones de los DFFITS y de los DFBeta no denotan valores atípicos, mientras que en el caso de las distancias de Cook se señalan dos casos especiales el ministro y el ingeniero."
   ]
  },
  {
   "attachments": {},
   "cell_type": "markdown",
   "metadata": {},
   "source": [
    "### Estimación Robusta por Huber"
   ]
  },
  {
   "cell_type": "code",
   "execution_count": 13,
   "metadata": {
    "vscode": {
     "languageId": "r"
    }
   },
   "outputs": [
    {
     "data": {
      "text/plain": [
       "Call:\n",
       "rlm(formula = income ~ education, data = Duncan, k2 = 1.345)\n",
       "Converged in 9 iterations\n",
       "\n",
       "Coefficients:\n",
       "(Intercept)   education \n",
       "  6.3002197   0.6615263 \n",
       "\n",
       "Degrees of freedom: 45 total; 43 residual\n",
       "Scale estimate: 13.1 "
      ]
     },
     "metadata": {},
     "output_type": "display_data"
    }
   ],
   "source": [
    "# Ajustamos un modelo robusto con la propuesta de Huber\n",
    "duncan_Huber <- rlm( income ~ education, data = Duncan, k2 = 1.345 )\n",
    "duncan_Huber "
   ]
  },
  {
   "attachments": {},
   "cell_type": "markdown",
   "metadata": {},
   "source": [
    "### Estimación Robusta por LTS"
   ]
  },
  {
   "cell_type": "code",
   "execution_count": 14,
   "metadata": {
    "vscode": {
     "languageId": "r"
    }
   },
   "outputs": [
    {
     "data": {
      "text/plain": [
       "Call:\n",
       "lqs.formula(formula = income ~ education, data = Duncan, method = \"lts\")\n",
       "\n",
       "Coefficients:\n",
       "(Intercept)    education  \n",
       "    -2.6929       0.8125  \n",
       "\n",
       "Scale estimates 10.43 11.19 \n"
      ]
     },
     "metadata": {},
     "output_type": "display_data"
    }
   ],
   "source": [
    "# Ajustamos un modelo robusto con la propuesta de LTS\n",
    "duncan_LTS <- lqs( income ~ education, data = Duncan, method = 'lts' )\n",
    "duncan_LTS"
   ]
  },
  {
   "attachments": {},
   "cell_type": "markdown",
   "metadata": {},
   "source": [
    "### Estimación Robusta por LAD"
   ]
  },
  {
   "cell_type": "code",
   "execution_count": 15,
   "metadata": {
    "vscode": {
     "languageId": "r"
    }
   },
   "outputs": [
    {
     "data": {
      "text/plain": [
       "Call:\n",
       "rq(formula = income ~ education, tau = 0.5, data = Duncan)\n",
       "\n",
       "Coefficients:\n",
       "(Intercept)   education \n",
       "       1.75        0.75 \n",
       "\n",
       "Degrees of freedom: 45 total; 43 residual"
      ]
     },
     "metadata": {},
     "output_type": "display_data"
    }
   ],
   "source": [
    "# Ajustamos un modelo robusto con la propuesta de LAD\n",
    "duncan_LAD <- rq( income ~ education, data = Duncan, tau = 0.5 )\n",
    "duncan_LAD"
   ]
  },
  {
   "attachments": {},
   "cell_type": "markdown",
   "metadata": {},
   "source": [
    "### Comparamos gráficamente las estimaciones"
   ]
  },
  {
   "cell_type": "code",
   "execution_count": null,
   "metadata": {
    "vscode": {
     "languageId": "r"
    }
   },
   "outputs": [],
   "source": []
  },
  {
   "attachments": {},
   "cell_type": "markdown",
   "metadata": {},
   "source": [
    "### Comparación analítica de los ajustes"
   ]
  },
  {
   "cell_type": "code",
   "execution_count": 16,
   "metadata": {
    "vscode": {
     "languageId": "r"
    }
   },
   "outputs": [
    {
     "name": "stdout",
     "output_type": "stream",
     "text": [
      "           EM\n",
      "OLS 0.7808577\n",
      "LTS 0.7776089\n",
      "HUB 0.8077907\n",
      "LAD 0.7982088\n"
     ]
    }
   ],
   "source": [
    "# Fijamos una semilla para reproducibilidad\n",
    "set.seed(2)\n",
    "\n",
    "# Separamos la base\n",
    "train = Duncan %>% sample_frac( 0.8 ) \n",
    "test = Duncan %>% setdiff( train )\n",
    "\n",
    "# Guardamos la v.resp de test\n",
    "income = test$income \n",
    "\n",
    "# Guardamos predichos\n",
    "ols_Predicted <- predict( duncan_lm, test ) \n",
    "lts_Predicted <- predict( duncan_LTS, test )\n",
    "lad_Predicted <- predict( duncan_LAD, test )\n",
    "hub_Predicted <- predict( duncan_Huber, test )\n",
    "\n",
    "# Armamos base con observados y ajustados\n",
    "ols_pred <- cbind( ols_Predicted, income ) \n",
    "lts_pred <- cbind( lts_Predicted, income )\n",
    "lad_pred <- cbind( lad_Predicted, income )\n",
    "hub_pred <- cbind( hub_Predicted, income )\n",
    "EM_OLS <- mean( apply( ols_pred, 1, min ) / apply( ols_pred, 1, max ) )\n",
    "EM_LTS <- mean( apply( lts_pred, 1, min ) / apply( lts_pred, 1, max ) )\n",
    "EM_LAD <- mean( apply( lad_pred, 1, min ) / apply( lad_pred, 1, max ) )\n",
    "EM_HUB <- mean( apply( hub_pred, 1, min ) / apply( hub_pred, 1, max ) )\n",
    "\n",
    "EM <- c( EM_OLS, EM_LTS, EM_HUB, EM_LAD )\n",
    "sal <- cbind( EM )\n",
    "rownames(sal) <- c( 'OLS', 'LTS', 'HUB', 'LAD') \n",
    "\n",
    "#Usando Kable\n",
    "#sal %>% kbl() %>% kable_classic()\n",
    "\n",
    "print( sal )"
   ]
  },
  {
   "attachments": {},
   "cell_type": "markdown",
   "metadata": {},
   "source": [
    "Los errores medios cometidos definidos como el promedio de las proporciones entre el mínimo y máximo entre ajustado y observado es similar, aunque el M-estimador de Huber logra mejorar esta proporción levemente. En cuanto al coeficiente de determinación el LAD logra el mejor ajuste. Hay que destacar que la separación de conjuntos de testeo y validación se hace con una semilla aleatoria, al variar esta semilla pueden variar estos valores."
   ]
  }
 ],
 "metadata": {
  "kernelspec": {
   "display_name": "R",
   "language": "R",
   "name": "ir"
  },
  "language_info": {
   "codemirror_mode": "r",
   "file_extension": ".r",
   "mimetype": "text/x-r-source",
   "name": "R",
   "pygments_lexer": "r",
   "version": "4.2.3"
  },
  "orig_nbformat": 4
 },
 "nbformat": 4,
 "nbformat_minor": 2
}
